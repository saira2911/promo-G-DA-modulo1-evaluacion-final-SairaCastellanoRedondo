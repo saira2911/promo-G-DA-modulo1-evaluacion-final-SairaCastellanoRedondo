{
 "cells": [
  {
   "cell_type": "code",
   "execution_count": 146,
   "metadata": {},
   "outputs": [],
   "source": [
    "class TiendaOnline:\n",
    "    #defino aqui la lista y el diccionario vacaios, y el 0 pero nose si realmente hace falta hacerlo aqui o con hacerlo al instanciar es suficiente\n",
    "    def __init__(self, inventario = [], clientes = {}, ventas_totales = 0):\n",
    "\n",
    "        self. inventario = inventario\n",
    "        self.clientes = clientes\n",
    "        self.ventas_totales = ventas_totales\n",
    "\n",
    "    def agregar_producto(self, nombre, precio, cantidad):\n",
    "\n",
    "        #usamos un booleano para recorrer toda la lista del inventario y comprobar si algun nombre de producto coincide con el que le damos\n",
    "        existe_producto = False\n",
    "        for producto in self.inventario:\n",
    "            if producto[\"nombre\"] == nombre:\n",
    "                #si encuentra un producto el booleano cambia a true y modificamos solo la cantidad del producto\n",
    "                existe_producto = True\n",
    "                producto[\"cantidad\"] = cantidad\n",
    "\n",
    "        #si no hay ningun producto en el inventario que se llame como le estamos diciendo\n",
    "        if not existe_producto:\n",
    "            #añadimos un nuevo diccionario de producto a inventario con los nuevos datos\n",
    "            self.inventario.append({\"nombre\" : nombre, \"precio\" : precio, \"cantidad\" : cantidad})\n",
    "                   \n",
    "    def ver_inventario(self):\n",
    "         #bucle for para que muestre todos los productos\n",
    "         for producto in self.inventario:\n",
    "            print(f\"Nombre: {producto['nombre'].title()}, Precio: ${producto['precio']}, Cantidad: {producto['cantidad']}\")\n",
    "\n",
    "    def buscar_producto(self, nombre):\n",
    "        existe_producto = False\n",
    "        #recorre todo el inventario y cuando encuentres el producto dado, imprime su informacion y cambia el booleano a true\n",
    "        for producto in self.inventario:\n",
    "            if producto[\"nombre\"] == nombre:\n",
    "                existe_producto = True\n",
    "                return(f\"Nombre: {producto['nombre'].title()}, Precio: ${producto['precio']}, Cantidad: {producto['cantidad']}\")\n",
    "        #si no ha encontrado el producto devuelve este mensaje\n",
    "        if not existe_producto:\n",
    "            print(f\"El producto {nombre} no esta en el inventario\")\n",
    "\n",
    "    #Esta cantidad es a añadir o retirar, se añade a la que hay, no la sustituye\n",
    "    def actualizar_stock(self, nombre, cantidad):\n",
    "        existe_producto = False\n",
    "        #recorre todo el inventario y cuando encuentres el producto dado, modifica su cantidad\n",
    "        for producto in self.inventario:\n",
    "            if producto[\"nombre\"] == nombre:\n",
    "                existe_producto = True\n",
    "                producto[\"cantidad\"] += cantidad\n",
    "        #si no ha encontrado el producto devuelve este mensaje\n",
    "        if not existe_producto:\n",
    "            print(f\"El producto {nombre} no esta en el inventario\")\n",
    "\n",
    "    \n",
    "    def eliminar_producto(self, nombre):\n",
    "        existe_producto = False\n",
    "        #recorre todo el inventario y cuando encuentres el producto dado, eliminalo\n",
    "        for producto in self.inventario:\n",
    "            if producto[\"nombre\"] == nombre:\n",
    "                existe_producto = True\n",
    "                self.inventario.remove(producto)\n",
    "        #si no ha encontrado el producto devuelve este mensaje\n",
    "        if not existe_producto:\n",
    "            print(f\"El producto {nombre} no está en el inventario\")  \n",
    "\n",
    "    def calcular_valor_inventario(self):\n",
    "        #creamos variable\n",
    "        valor_total = 0\n",
    "        #bucle para ir sumando todos los productos\n",
    "        for producto in self.inventario:\n",
    "            valor_total += (producto[\"precio\"] * producto[\"cantidad\"])\n",
    "        print(\"El valor total del inventario es:\")\n",
    "        #pongo return por si el dato se quiere almacenar\n",
    "        return valor_total\n",
    "\n",
    "    def realizar_compra (self):\n",
    "        #creamos el carrito como un diccionario vacio\n",
    "        carrito_compra = {}\n",
    "\n",
    "        #muestra inventario\n",
    "        print(\"Este es nuestro inventario: \")\n",
    "        self.ver_inventario()\n",
    "\n",
    "        #creamos variables que usaremos dentro del bucle\n",
    "        coste = 0\n",
    "        compra_producto = \"\"\n",
    "        compra_cantidad = 0\n",
    "        terminar = \"\"\n",
    "\n",
    "        #primer bucle para que siempre siga preguntando si quieres comprar mas productos\n",
    "        while terminar != \"si\":\n",
    "            #preguntamos el producto que quiere\n",
    "            compra_producto = input(\"Introduzca el producto que desea comprar\")\n",
    "            #definimos variables que usaremos despues\n",
    "            en_inventario = False \n",
    "            en_carrito = False \n",
    "            stock = 0 \n",
    "            precio = 0 \n",
    "            salir_bucle = True \n",
    "            #comprobamos si el producto esta en el inventario\n",
    "            for producto in self.inventario:\n",
    "                if producto[\"nombre\"] == compra_producto: #si esta en el inventario\n",
    "                    stock = int(producto[\"cantidad\"])\n",
    "                    precio = int(producto[\"precio\"])\n",
    "                    en_inventario = True\n",
    "            #comprobamos si el producto esta ya en el carrito\n",
    "            for k,v in carrito_compra.items():\n",
    "                if k == compra_producto: #si esta en el carrito\n",
    "                    en_carrito = True\n",
    "                    print(f\"El producto {compra_producto} ya esta en el carrito, la cantidad que ha añadido es {carrito_compra[compra_producto]}\")\n",
    "            #si esta en el inventario y en el carrito preguntaremos si modificar la cantidad\n",
    "            while en_inventario and en_carrito and salir_bucle:\n",
    "                modif_cantidad = input(\"¿Quieres modificar la cantidad? Introduzca si/no\").lower()\n",
    "                if modif_cantidad == \"si\":\n",
    "                    try:\n",
    "                        nueva_cantidad = int(input(f\"Introduzca la cantidad que desea añadir o retirar {compra_producto}\"))\n",
    "                        #comprobamos que tengamos suficiente stock\n",
    "                        if nueva_cantidad <= stock:\n",
    "                            #si tenemos stock actualizamos el carrito\n",
    "                            carrito_compra.update({compra_producto : (carrito_compra[compra_producto] + nueva_cantidad)})\n",
    "                            #y el coste\n",
    "                            coste += (precio * nueva_cantidad)\n",
    "                            compra_cantidad += nueva_cantidad\n",
    "                            #imprimimos el contenido del carrito\n",
    "                            print(\"Tu carrito ahora contiene: \")\n",
    "                            for k,v in carrito_compra.items():\n",
    "                                print(f\"{k.title()}: {v} unidades\")\n",
    "                            #actualizamos el stock\n",
    "                            self.actualizar_stock(compra_producto, -nueva_cantidad)\n",
    "                            print(f\"Y el coste es ${coste}\")\n",
    "                            salir_bucle = False\n",
    "                                  \n",
    "                              \n",
    "                        else: #cuando no hay sufucuente stock\n",
    "                            print(f\"Error. Ha solicitado {nueva_cantidad} y el stock que tenemos de {compra_producto} es {stock}\")\n",
    "                    except: #cuando no introducen un numero\n",
    "                        print(\"Por favor introduzca un numero\")\n",
    "\n",
    "                elif modif_cantidad == \"no\":\n",
    "                    print(\"Continue con su compra\")\n",
    "                    break\n",
    "                else:\n",
    "                    print(\"Por favor responda si o no\") \n",
    "             \n",
    "\n",
    "            if not en_inventario: #no esta en el inventario\n",
    "                print(f\"El producto {compra_producto} no esta en el inventario, introduzca otro\")\n",
    "                \n",
    "            while en_inventario and not en_carrito and salir_bucle: #no esta en el carrito y si en el inventario\n",
    "\n",
    "                try: ##aqui deberia añadir crear un exception por si introducen un numero negativo##\n",
    "                    compra_cantidad = int(input(f\"Introduzca la cantidad de {compra_producto} que desea añadir al carrito\"))\n",
    "                    #si hay stock\n",
    "                    if compra_cantidad <= stock:\n",
    "                        #actualizamos carrito\n",
    "                        carrito_compra.update({compra_producto : compra_cantidad})\n",
    "                        #y coste\n",
    "                        coste += (precio * compra_cantidad)\n",
    "                        \n",
    "                    else:\n",
    "                        print(f\"Error. Ha solicitado {compra_cantidad} y el stock que tenemos de {compra_producto} es {stock}\")\n",
    "                except:\n",
    "                    print(\"Por favor introduzca un numero positivo\")\n",
    "\n",
    "                print(\"Tu carrito ahora contiene: \")\n",
    "                for k,v in carrito_compra.items():\n",
    "                    print(f\"{k.title()}: {v} unidades\")\n",
    "                #actualizamos stock\n",
    "                self.actualizar_stock(compra_producto, -compra_cantidad)\n",
    "                print(f\"Y el coste es ${coste}\")\n",
    "                salir_bucle = False\n",
    "\n",
    "            #bucle para preguntar si desea terminar la compra\n",
    "            while True:\n",
    "                terminar = input(\"¿Desea terminar su compra? Introduzca si/no\")\n",
    "                #si derea terminar devuelve el coste de la compra\n",
    "                if terminar == \"si\":\n",
    "                    return(f\"El coste final de la compra es ${coste}\")\n",
    "                #sino sale de este bucle y vuelve a empezar\n",
    "                elif terminar == \"no\":\n",
    "                    break\n",
    "                else:\n",
    "                    print(\"Por favor responda si o no\") \n",
    "    \n",
    "    def procesar_pago(self):\n",
    "        #definimos las variables con los inputs\n",
    "        tiket = int(input(\"¿Cuanto debe pagar?\"))\n",
    "        dinero_entregado = int(input(\"¿Cuanto dinero va a entregar?\"))\n",
    "\n",
    "        try: #creamos una excepcion a los numeros negativos\n",
    "            if tiket > dinero_entregado:\n",
    "                raise Exception(\"negative\")\n",
    "        except Exception:\n",
    "            print(f\"El dinero entregado ha sido ${dinero_entregado} y no es suficiente para pagar la compra de ${tiket}\")\n",
    "        else: #si es positivo devuelve el cambio\n",
    "            if tiket < dinero_entregado:\n",
    "                cambio = dinero_entregado - tiket\n",
    "                return(f\"El cambio es ${cambio}\")\n",
    "            \n",
    "    def agregar_cliente(self, nombre, email):\n",
    "        #con un setdefault buscamos si el cliente ya existe y sino lo añade\n",
    "        self.clientes.setdefault(nombre, {\"email\" : email, \"compras\" : []})\n",
    "\n",
    "    def ver_clientes(self):\n",
    "        #bucle for para que muestre todos los productos\n",
    "        for cliente,info in self.clientes.items():\n",
    "                print(f\"Nombre: {cliente}, Email: {info['email']}, Historial compras: {info['compras']}\")\n",
    "\n",
    "    def registrar_compra(self, nombre_cliente, carrito): ##no terminado\n",
    "        existe_cliente = False\n",
    "        for cliente,info in self.clientes.items():\n",
    "            if cliente == nombre_cliente:\n",
    "                existe_cliente = True\n",
    "                info[\"compras\"] = carrito\n",
    "                #self.clientes.update({Total_comprado : info[compras][]})\n",
    "\n",
    "        if not existe_cliente:\n",
    "            print(\"El cliente no esta registrado, no se puede realizar la compra\")\n",
    "\n",
    "    def ver_compras_cliente(self, nombre_cliente):\n",
    "        for cliente,info in self.clientes.items():\n",
    "            if cliente == nombre_cliente:\n",
    "                return info['compras']\n",
    "            \n",
    "    \n"
   ]
  },
  {
   "cell_type": "code",
   "execution_count": 149,
   "metadata": {},
   "outputs": [],
   "source": [
    "bershka = TiendaOnline([], {}, 0)"
   ]
  },
  {
   "cell_type": "code",
   "execution_count": 120,
   "metadata": {},
   "outputs": [],
   "source": [
    "bershka.agregar_producto(\"pantalon\", 30, 50)\n",
    "bershka.agregar_producto(\"camiseta\", 10, 50)\n",
    "bershka.agregar_producto(\"falda\", 20, 40)"
   ]
  },
  {
   "cell_type": "code",
   "execution_count": 116,
   "metadata": {},
   "outputs": [
    {
     "name": "stdout",
     "output_type": "stream",
     "text": [
      "Nombre: Pantalon, Precio: $30, Cantidad: 50\n",
      "Nombre: Camiseta, Precio: $10, Cantidad: 50\n",
      "Nombre: Falda, Precio: $20, Cantidad: 40\n"
     ]
    }
   ],
   "source": [
    "bershka.ver_inventario()"
   ]
  },
  {
   "cell_type": "code",
   "execution_count": 121,
   "metadata": {},
   "outputs": [
    {
     "data": {
      "text/plain": [
       "'Nombre: Falda, Precio: $20, Cantidad: 40'"
      ]
     },
     "execution_count": 121,
     "metadata": {},
     "output_type": "execute_result"
    }
   ],
   "source": [
    "bershka.buscar_producto(\"falda\")"
   ]
  },
  {
   "cell_type": "code",
   "execution_count": 122,
   "metadata": {},
   "outputs": [],
   "source": [
    "bershka.actualizar_stock(\"falda\", -10)"
   ]
  },
  {
   "cell_type": "code",
   "execution_count": 123,
   "metadata": {},
   "outputs": [
    {
     "data": {
      "text/plain": [
       "'Nombre: Falda, Precio: $20, Cantidad: 30'"
      ]
     },
     "execution_count": 123,
     "metadata": {},
     "output_type": "execute_result"
    }
   ],
   "source": [
    "bershka.buscar_producto(\"falda\")"
   ]
  },
  {
   "cell_type": "code",
   "execution_count": 124,
   "metadata": {},
   "outputs": [],
   "source": [
    "bershka.eliminar_producto(\"pantalon\")"
   ]
  },
  {
   "cell_type": "code",
   "execution_count": 125,
   "metadata": {},
   "outputs": [
    {
     "name": "stdout",
     "output_type": "stream",
     "text": [
      "Nombre: Camiseta, Precio: $10, Cantidad: 50\n",
      "Nombre: Falda, Precio: $20, Cantidad: 30\n"
     ]
    }
   ],
   "source": [
    "bershka.ver_inventario()"
   ]
  },
  {
   "cell_type": "code",
   "execution_count": 126,
   "metadata": {},
   "outputs": [
    {
     "name": "stdout",
     "output_type": "stream",
     "text": [
      "El valor total del inventario es:\n"
     ]
    },
    {
     "data": {
      "text/plain": [
       "1100"
      ]
     },
     "execution_count": 126,
     "metadata": {},
     "output_type": "execute_result"
    }
   ],
   "source": [
    "bershka.calcular_valor_inventario()"
   ]
  },
  {
   "cell_type": "code",
   "execution_count": 128,
   "metadata": {},
   "outputs": [
    {
     "name": "stdout",
     "output_type": "stream",
     "text": [
      "Este es nuestro inventario: \n",
      "Nombre: Camiseta, Precio: $10, Cantidad: 50\n",
      "Nombre: Falda, Precio: $20, Cantidad: 30\n",
      "Tu carrito ahora contiene: \n",
      "Camiseta: 10 unidades\n",
      "Y el coste es $100\n",
      "Por favor responda si o no\n",
      "Tu carrito ahora contiene: \n",
      "Camiseta: 10 unidades\n",
      "Falda: 2 unidades\n",
      "Y el coste es $140\n",
      "El producto camiseta ya esta en el carrito, la cantidad que ha añadido es 10\n",
      "Tu carrito ahora contiene: \n",
      "Camiseta: 5 unidades\n",
      "Falda: 2 unidades\n",
      "Y el coste es $90\n"
     ]
    },
    {
     "data": {
      "text/plain": [
       "'El coste final de la compra es $90'"
      ]
     },
     "execution_count": 128,
     "metadata": {},
     "output_type": "execute_result"
    }
   ],
   "source": [
    "bershka.realizar_compra()"
   ]
  },
  {
   "cell_type": "code",
   "execution_count": 129,
   "metadata": {},
   "outputs": [
    {
     "name": "stdout",
     "output_type": "stream",
     "text": [
      "Nombre: Camiseta, Precio: $10, Cantidad: 45\n",
      "Nombre: Falda, Precio: $20, Cantidad: 28\n"
     ]
    }
   ],
   "source": [
    "bershka.ver_inventario()"
   ]
  },
  {
   "cell_type": "code",
   "execution_count": 55,
   "metadata": {},
   "outputs": [
    {
     "data": {
      "text/plain": [
       "'El cambio es $10'"
      ]
     },
     "execution_count": 55,
     "metadata": {},
     "output_type": "execute_result"
    }
   ],
   "source": [
    "bershka.procesar_pago()"
   ]
  },
  {
   "cell_type": "code",
   "execution_count": 150,
   "metadata": {},
   "outputs": [],
   "source": [
    "bershka.agregar_cliente(\"Lucia\", \"lu25@gmail.com\")\n",
    "bershka.agregar_cliente(\"Maria\", \"maria5@gmail.com\")"
   ]
  },
  {
   "cell_type": "code",
   "execution_count": 144,
   "metadata": {},
   "outputs": [],
   "source": [
    "bershka.ver_clientes()"
   ]
  },
  {
   "cell_type": "code",
   "execution_count": 151,
   "metadata": {},
   "outputs": [
    {
     "name": "stdout",
     "output_type": "stream",
     "text": [
      "{'email': 'maria5@gmail.com', 'compras': {'Falda': {'precio': 20, 'cantidad': 1}}}\n"
     ]
    }
   ],
   "source": [
    "\n",
    "carro2 = {\"Falda\" : {\"precio\" : 20, \"cantidad\" : 1}}\n",
    "bershka.registrar_compra(\"Maria\", carro2)"
   ]
  }
 ],
 "metadata": {
  "kernelspec": {
   "display_name": "base",
   "language": "python",
   "name": "python3"
  },
  "language_info": {
   "codemirror_mode": {
    "name": "ipython",
    "version": 3
   },
   "file_extension": ".py",
   "mimetype": "text/x-python",
   "name": "python",
   "nbconvert_exporter": "python",
   "pygments_lexer": "ipython3",
   "version": "3.9.7"
  }
 },
 "nbformat": 4,
 "nbformat_minor": 2
}
