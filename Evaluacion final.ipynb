{
 "cells": [
  {
   "cell_type": "code",
   "execution_count": 159,
   "metadata": {},
   "outputs": [],
   "source": [
    "class TiendaOnline:\n",
    "\n",
    "    def __init__(self, inventario, clientes, ventas_totales = 0):\n",
    "\n",
    "        self. inventario = inventario\n",
    "        self.clientes = clientes\n",
    "        self.ventas_totales = ventas_totales\n",
    "\n",
    "    def agregar_producto(self, nombre, precio, cantidad):\n",
    "        #para cada diccionario de producto del inventario\n",
    "        existe_producto = False\n",
    "        for producto in self.inventario:\n",
    "            if producto[\"nombre\"] == nombre:\n",
    "                existe_producto = True\n",
    "                producto[\"cantidad\"] = cantidad\n",
    "                break\n",
    "\n",
    "        if not existe_producto:\n",
    "            #añadimos un nuevo diccionario de producto a inventario con los nuevos datos\n",
    "            self.inventario.append({\"nombre\" : nombre, \"precio\" : precio, \"cantidad\" : cantidad})\n",
    "               \n",
    "                        \n",
    "    def ver_inventario(self):\n",
    "         for producto in self.inventario:\n",
    "            #print(producto[\"nombre\"])\n",
    "            print(f\"Nombre: {producto['nombre'].title()}, Precio: ${producto['precio']}, Cantidad: {producto['cantidad']}\")\n",
    "\n",
    "    def buscar_producto(self, nombre):\n",
    "        for producto in self.inventario:\n",
    "            if producto[\"nombre\"] == nombre:\n",
    "                print(f\"Nombre: {producto['nombre'].title()}, Precio: ${producto['precio']}, Cantidad: {producto['cantidad']}\")\n",
    "\n",
    "    def actualizar_stock(self, nombre, cantidad):\n",
    "        for producto in self.inventario:\n",
    "            if producto[\"nombre\"] == nombre:\n",
    "                producto[\"cantidad\"] += cantidad\n",
    "                \n",
    "    def eliminar_producto(self, nombre):\n",
    "        existe_producto = False\n",
    "        for producto in self.inventario:\n",
    "            if producto[\"nombre\"] == nombre:\n",
    "                existe_producto = True\n",
    "                self.inventario.remove(producto)\n",
    "        if not existe_producto:\n",
    "            print(f\"El producto {nombre} no está en el inventario\")  \n",
    "\n",
    "    def calcular_valor_inventario(self):\n",
    "        valor_total = 0\n",
    "        for producto in self.inventario:\n",
    "            valor_total += (producto[\"precio\"] * producto[\"cantidad\"])\n",
    "        print(f\"El valor total del inventario es {valor_total} euros\")\n",
    "\n"
   ]
  },
  {
   "cell_type": "code",
   "execution_count": 160,
   "metadata": {},
   "outputs": [],
   "source": [
    "bershka = TiendaOnline([], {}, 0)"
   ]
  },
  {
   "cell_type": "code",
   "execution_count": 161,
   "metadata": {},
   "outputs": [],
   "source": [
    "bershka.agregar_producto(\"pantalon\", 30, 50)\n",
    "bershka.agregar_producto(\"camiseta\", 10, 50)\n",
    "bershka.agregar_producto(\"falda\", 20, 40)"
   ]
  },
  {
   "cell_type": "code",
   "execution_count": 152,
   "metadata": {},
   "outputs": [],
   "source": [
    "bershka.eliminar_producto(\"camiseta\")"
   ]
  },
  {
   "cell_type": "code",
   "execution_count": 162,
   "metadata": {},
   "outputs": [
    {
     "name": "stdout",
     "output_type": "stream",
     "text": [
      "Nombre: Pantalon, Precio: $30, Cantidad: 50\n",
      "Nombre: Camiseta, Precio: $10, Cantidad: 50\n",
      "Nombre: Falda, Precio: $20, Cantidad: 40\n"
     ]
    }
   ],
   "source": [
    "bershka.ver_inventario()"
   ]
  },
  {
   "cell_type": "code",
   "execution_count": 163,
   "metadata": {},
   "outputs": [
    {
     "name": "stdout",
     "output_type": "stream",
     "text": [
      "El valor total del inventario es 2800 euros\n"
     ]
    }
   ],
   "source": [
    "bershka.calcular_valor_inventario()"
   ]
  },
  {
   "cell_type": "code",
   "execution_count": 146,
   "metadata": {},
   "outputs": [],
   "source": [
    "bershka.actualizar_stock(\"pantalon\", -50)"
   ]
  },
  {
   "cell_type": "code",
   "execution_count": 113,
   "metadata": {},
   "outputs": [
    {
     "data": {
      "text/plain": [
       "[{'nombre': 'falda', 'precio': 30, 'cantidad': 50},\n",
       " {'nombre': 'pantalon', 'precio': 40, 'cantidad': 40},\n",
       " {'nombre': 'camiseta', 'precio': 10, 'cantidad': 50}]"
      ]
     },
     "execution_count": 113,
     "metadata": {},
     "output_type": "execute_result"
    }
   ],
   "source": [
    "bershka.inventario"
   ]
  },
  {
   "cell_type": "code",
   "execution_count": 141,
   "metadata": {},
   "outputs": [],
   "source": [
    "bershka.agregar_producto(\"camiseta\", 10, 50)"
   ]
  },
  {
   "cell_type": "code",
   "execution_count": 133,
   "metadata": {},
   "outputs": [
    {
     "name": "stdout",
     "output_type": "stream",
     "text": [
      "Nombre: Falda, Precio: $30, Cantidad: 50\n"
     ]
    }
   ],
   "source": [
    "bershka.buscar_producto(\"falda\")"
   ]
  },
  {
   "cell_type": "code",
   "execution_count": 25,
   "metadata": {},
   "outputs": [
    {
     "name": "stdout",
     "output_type": "stream",
     "text": [
      "[{'nombre': 'falda', 'precio': 30, 'cantidad': 50}, {'nombre': 'pantalon', 'precio': 40, 'cantidad': 30}, {'nombre': 'pantalon', 'precio': 40, 'cantidad': 30}]\n"
     ]
    }
   ],
   "source": [
    "i = bershka.inventario\n",
    "print(i)"
   ]
  },
  {
   "cell_type": "code",
   "execution_count": 27,
   "metadata": {},
   "outputs": [
    {
     "data": {
      "text/plain": [
       "'falda'"
      ]
     },
     "execution_count": 27,
     "metadata": {},
     "output_type": "execute_result"
    }
   ],
   "source": [
    "i[0][\"nombre\"]"
   ]
  }
 ],
 "metadata": {
  "kernelspec": {
   "display_name": "base",
   "language": "python",
   "name": "python3"
  },
  "language_info": {
   "codemirror_mode": {
    "name": "ipython",
    "version": 3
   },
   "file_extension": ".py",
   "mimetype": "text/x-python",
   "name": "python",
   "nbconvert_exporter": "python",
   "pygments_lexer": "ipython3",
   "version": "3.9.7"
  }
 },
 "nbformat": 4,
 "nbformat_minor": 2
}
